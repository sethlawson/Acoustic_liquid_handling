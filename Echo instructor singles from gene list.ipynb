{
 "cells": [
  {
   "cell_type": "code",
   "execution_count": 62,
   "id": "6ecccb67-7852-4029-8dd4-5c04a4e9682e",
   "metadata": {},
   "outputs": [],
   "source": [
    "import pandas as pd\n",
    "import numpy as np\n",
    "\n",
    "target = pd.DataFrame(columns=['Sample ID', 'Plate Name', 'Location (Row-Col)', 'Row', 'Col', 'Gene Symbol', 'Gene ID', 'siRNA ID', 'Destination Well', 'Destination Plate Barcode', 'Destination Volume'])\n",
    "source = pd.read_excel(r\"C:\\Users\\lawsonsa\\Downloads\\08-03-17 Combined siRNA library.xlsx\", sheet_name='0.1 nmol RNAi')"
   ]
  },
  {
   "cell_type": "markdown",
   "id": "97457829-4db4-4175-a384-74f761cf8e32",
   "metadata": {},
   "source": [
    "### Provide gene list"
   ]
  },
  {
   "cell_type": "code",
   "execution_count": 48,
   "id": "e997fd80-91a4-473a-a487-b4cf0a5b119c",
   "metadata": {},
   "outputs": [
    {
     "name": "stdout",
     "output_type": "stream",
     "text": [
      "36 duplicates removed from the provided gene list\n"
     ]
    }
   ],
   "source": [
    "#This file's first column must be gene names, and the line of code below requires this column to have the header 'Gene/product'\n",
    "\n",
    "gene_list = pd.read_excel(r\"C:\\Users\\lawsonsa\\Downloads\\RNA splicing gene list.xlsx\", index_col='Gene/product')\n",
    "before = len(gene_list)\n",
    "gene_list = gene_list.index.drop_duplicates()\n",
    "print(f'{before - len(gene_list)} duplicates removed from the provided gene list')"
   ]
  },
  {
   "cell_type": "markdown",
   "id": "57fb2d41-f597-4525-ab03-9bcead8ac88b",
   "metadata": {},
   "source": [
    "### Create a new source plate of only siRNAs targetting our gene list"
   ]
  },
  {
   "cell_type": "code",
   "execution_count": 49,
   "id": "8e8eabe6-1225-465f-af3e-7cc317bc889c",
   "metadata": {},
   "outputs": [
    {
     "name": "stdout",
     "output_type": "stream",
     "text": [
      "1569 siRNAs targeting provided gene list prior to mapping unmatched genes\n"
     ]
    }
   ],
   "source": [
    "\n",
    "def make_bool_array(source, gene_list):\n",
    "    bool_array = []\n",
    "    for i in range(len(source)):\n",
    "        if source['Gene Symbol'][i] in gene_list:\n",
    "            bool_array.append(True)\n",
    "            \n",
    "        else:\n",
    "            bool_array.append(False)\n",
    "    return bool_array\n",
    "bool_array = make_bool_array(source, gene_list)\n",
    "print(sum(bool_array), 'siRNAs targeting provided gene list prior to mapping unmatched genes')\n",
    "\n",
    "clean_source = source.loc[bool_array]"
   ]
  },
  {
   "cell_type": "markdown",
   "id": "267c7278-ef89-403f-864e-bb52ae4818c2",
   "metadata": {},
   "source": [
    "### Find the genes whose siRNAs we were unable to locate in the source library"
   ]
  },
  {
   "cell_type": "code",
   "execution_count": 50,
   "id": "693cacff-5ee8-4ec1-b68a-a616d0fd9327",
   "metadata": {
    "tags": []
   },
   "outputs": [],
   "source": [
    "import mygene\n",
    "\n",
    "mg = mygene.MyGeneInfo()\n",
    "\n",
    "mapped_genes = []\n",
    "unmapped_genes = []\n",
    "for gene in gene_list:\n",
    "    if gene not in clean_source['Gene Symbol'].to_list():\n",
    "        try:\n",
    "            #print(mg.query(gene, size=1))\n",
    "            mapped_genes.append(mg.query(gene, size=1)['hits'][0]['entrezgene'])\n",
    "        except:\n",
    "            unmapped_genes.append(gene)\n",
    "mapped_genes = [int(number) for number in mapped_genes]"
   ]
  },
  {
   "cell_type": "markdown",
   "id": "ee749119-8e8e-4f26-b2a2-8e9487dfb313",
   "metadata": {},
   "source": [
    "### Append those to our clean_source df"
   ]
  },
  {
   "cell_type": "code",
   "execution_count": 63,
   "id": "47c6e329-5810-4075-bf12-05f09bbe964a",
   "metadata": {},
   "outputs": [],
   "source": [
    "def sort_by_frequency(df, column):\n",
    "    '''\n",
    "    Sort a pandas dataframe based on the frequency of a provided column in that pandas dataframe.\n",
    "    E.g. if a column has plates, we want to be able to sort the dataframe so that the rows with the least common label appear at the top, and the most common plate appear at the end.\n",
    "    '''\n",
    "    # Get the frequency of each label in the column\n",
    "    frequencies = df[column].value_counts()\n",
    "    \n",
    "    # Make a new column with the frequencies\n",
    "    df['frequency'] = df[column].apply(lambda x: frequencies[x])\n",
    "    \n",
    "    # Sort the dataframe by the frequency column\n",
    "    df.sort_values(by=['frequency', column], inplace=True)\n",
    "    \n",
    "    # Drop the frequency column\n",
    "    df = df.drop(columns='frequency')\n",
    "    return df"
   ]
  },
  {
   "cell_type": "code",
   "execution_count": 66,
   "id": "52719fdd-9f7e-4dde-95c7-99aeebb36ec1",
   "metadata": {
    "tags": []
   },
   "outputs": [
    {
     "name": "stdout",
     "output_type": "stream",
     "text": [
      "The abundance of Plate ID is:\n",
      "CPE200CD    41\n",
      "CPE200D2    41\n",
      "CPE200DR    41\n",
      "CPE200CE    34\n",
      "CPE200D3    34\n",
      "            ..\n",
      "CPE200BM     1\n",
      "CPE200BO     1\n",
      "CPE200BT     1\n",
      "CPE200BV     1\n",
      "CPE200AT     1\n",
      "Name: Plate ID, Length: 159, dtype: int64\n",
      "\n",
      "Gene names in list that were unable to be mapped to the library\n",
      "['CICK1', 'I3L521', 'M0R2N4', 'M0R3G1', 'SNRPGP15', 'U2AF1L5']\n"
     ]
    }
   ],
   "source": [
    "add_to_clean_source = source.loc[source['Gene ID'].isin(mapped_genes)]\n",
    "source = pd.concat([clean_source, add_to_clean_source])\n",
    "source = sort_by_frequency(source, 'Plate ID')\n",
    "print(f'\\nGene names in list that were unable to be mapped to the library\\n{unmapped_genes}')"
   ]
  },
  {
   "cell_type": "markdown",
   "id": "0475ef54-2fa8-4af4-bd9a-215a3a249f31",
   "metadata": {},
   "source": [
    "### Define plate parameters"
   ]
  },
  {
   "cell_type": "code",
   "execution_count": 74,
   "id": "f6de09d9-1a7d-4550-a050-266904fd33af",
   "metadata": {},
   "outputs": [],
   "source": [
    "rows = ['B','C','D','E','F','G','H','I','J','K','L','M','N','O']\n",
    "cols = [2,3,4,5,6,7,8,9,10,11,12,13,14,15,16,17,18,19,20,21,22,23]\n",
    "wells = [row+str(col) for row in rows for col in cols]\n"
   ]
  },
  {
   "cell_type": "code",
   "execution_count": 75,
   "id": "5de60ea8-889d-4f84-b592-4702f680bf1b",
   "metadata": {},
   "outputs": [
    {
     "name": "stdout",
     "output_type": "stream",
     "text": [
      "Num wells per plate: 308\n",
      "Num wells needed for screen: 1716\n",
      "Num plates needed for screen: 6\n",
      "Spare wells: 132\n"
     ]
    }
   ],
   "source": [
    "import math\n",
    "variable1 = len(wells)\n",
    "variable2 = source.shape[0]\n",
    "variable3 = int(math.ceil(variable2 / variable1))\n",
    "variable4 = (variable1*variable3)-variable2\n",
    "print(f'Num wells per plate: {variable1}\\nNum wells needed for screen: {variable2}\\nNum plates needed for screen: {variable3}\\nSpare wells: {variable4}')"
   ]
  },
  {
   "cell_type": "code",
   "execution_count": 45,
   "id": "c9548819-e932-45ae-96c9-a3cadafad14e",
   "metadata": {},
   "outputs": [
    {
     "data": {
      "text/html": [
       "<div>\n",
       "<style scoped>\n",
       "    .dataframe tbody tr th:only-of-type {\n",
       "        vertical-align: middle;\n",
       "    }\n",
       "\n",
       "    .dataframe tbody tr th {\n",
       "        vertical-align: top;\n",
       "    }\n",
       "\n",
       "    .dataframe thead th {\n",
       "        text-align: right;\n",
       "    }\n",
       "</style>\n",
       "<table border=\"1\" class=\"dataframe\">\n",
       "  <thead>\n",
       "    <tr style=\"text-align: right;\">\n",
       "      <th></th>\n",
       "      <th>Sample ID</th>\n",
       "      <th>Plate Name</th>\n",
       "      <th>Location (Row-Col)</th>\n",
       "      <th>Row</th>\n",
       "      <th>Col</th>\n",
       "      <th>Gene Symbol</th>\n",
       "      <th>Gene ID</th>\n",
       "      <th>siRNA ID</th>\n",
       "      <th>Destination Well</th>\n",
       "      <th>Destination Plate Barcode</th>\n",
       "      <th>Destination Volume</th>\n",
       "      <th>Plate ID</th>\n",
       "    </tr>\n",
       "  </thead>\n",
       "  <tbody>\n",
       "    <tr>\n",
       "      <th>0</th>\n",
       "      <td>ASO0FPUI</td>\n",
       "      <td>Hm Gen Ext siRNA Lib-A1</td>\n",
       "      <td>G10</td>\n",
       "      <td>G</td>\n",
       "      <td>10</td>\n",
       "      <td>FAU</td>\n",
       "      <td>2197.0</td>\n",
       "      <td>s5039</td>\n",
       "      <td>B3</td>\n",
       "      <td>1</td>\n",
       "      <td></td>\n",
       "      <td>CPE2009C</td>\n",
       "    </tr>\n",
       "    <tr>\n",
       "      <th>1</th>\n",
       "      <td>ASO0FPV0</td>\n",
       "      <td>Hm Gen Ext siRNA Lib-A1</td>\n",
       "      <td>K2</td>\n",
       "      <td>K</td>\n",
       "      <td>2</td>\n",
       "      <td>AFF2</td>\n",
       "      <td>2334.0</td>\n",
       "      <td>s5318</td>\n",
       "      <td>B4</td>\n",
       "      <td>1</td>\n",
       "      <td></td>\n",
       "      <td>CPE2009C</td>\n",
       "    </tr>\n",
       "    <tr>\n",
       "      <th>2</th>\n",
       "      <td>ASO0FPV2</td>\n",
       "      <td>Hm Gen Ext siRNA Lib-A1</td>\n",
       "      <td>K6</td>\n",
       "      <td>K</td>\n",
       "      <td>6</td>\n",
       "      <td>FRG1</td>\n",
       "      <td>2483.0</td>\n",
       "      <td>s5366</td>\n",
       "      <td>B5</td>\n",
       "      <td>1</td>\n",
       "      <td></td>\n",
       "      <td>CPE2009C</td>\n",
       "    </tr>\n",
       "    <tr>\n",
       "      <th>3</th>\n",
       "      <td>ASO0FQ24</td>\n",
       "      <td>Hm Gen Ext siRNA Lib-A1</td>\n",
       "      <td>L4</td>\n",
       "      <td>L</td>\n",
       "      <td>4</td>\n",
       "      <td>HNRNPF</td>\n",
       "      <td>3185.0</td>\n",
       "      <td>s6725</td>\n",
       "      <td>B6</td>\n",
       "      <td>1</td>\n",
       "      <td></td>\n",
       "      <td>CPE2009C</td>\n",
       "    </tr>\n",
       "    <tr>\n",
       "      <th>4</th>\n",
       "      <td>ASO0FQ25</td>\n",
       "      <td>Hm Gen Ext siRNA Lib-A1</td>\n",
       "      <td>L6</td>\n",
       "      <td>L</td>\n",
       "      <td>6</td>\n",
       "      <td>HNRNPH1</td>\n",
       "      <td>3187.0</td>\n",
       "      <td>s6728</td>\n",
       "      <td>B7</td>\n",
       "      <td>1</td>\n",
       "      <td></td>\n",
       "      <td>CPE2009C</td>\n",
       "    </tr>\n",
       "    <tr>\n",
       "      <th>...</th>\n",
       "      <td>...</td>\n",
       "      <td>...</td>\n",
       "      <td>...</td>\n",
       "      <td>...</td>\n",
       "      <td>...</td>\n",
       "      <td>...</td>\n",
       "      <td>...</td>\n",
       "      <td>...</td>\n",
       "      <td>...</td>\n",
       "      <td>...</td>\n",
       "      <td>...</td>\n",
       "      <td>...</td>\n",
       "    </tr>\n",
       "    <tr>\n",
       "      <th>3280</th>\n",
       "      <td>ASO0GFU0</td>\n",
       "      <td>Hm Gen Ext siRNA Lib-C9</td>\n",
       "      <td>M1</td>\n",
       "      <td>M</td>\n",
       "      <td>1</td>\n",
       "      <td>PRPF38B</td>\n",
       "      <td>55119.0</td>\n",
       "      <td>s30217</td>\n",
       "      <td>J7</td>\n",
       "      <td>6</td>\n",
       "      <td></td>\n",
       "      <td>CPE200BA</td>\n",
       "    </tr>\n",
       "    <tr>\n",
       "      <th>3281</th>\n",
       "      <td>ASO0GFYQ</td>\n",
       "      <td>Hm Gen Ext siRNA Lib-C9</td>\n",
       "      <td>M14</td>\n",
       "      <td>M</td>\n",
       "      <td>14</td>\n",
       "      <td>INTS8</td>\n",
       "      <td>55656.0</td>\n",
       "      <td>s31181</td>\n",
       "      <td>J8</td>\n",
       "      <td>6</td>\n",
       "      <td></td>\n",
       "      <td>CPE200BA</td>\n",
       "    </tr>\n",
       "    <tr>\n",
       "      <th>3282</th>\n",
       "      <td>ASO0GFYR</td>\n",
       "      <td>Hm Gen Ext siRNA Lib-C9</td>\n",
       "      <td>M18</td>\n",
       "      <td>M</td>\n",
       "      <td>18</td>\n",
       "      <td>PRPF40A</td>\n",
       "      <td>55660.0</td>\n",
       "      <td>s31193</td>\n",
       "      <td>J9</td>\n",
       "      <td>6</td>\n",
       "      <td></td>\n",
       "      <td>CPE200BA</td>\n",
       "    </tr>\n",
       "    <tr>\n",
       "      <th>3283</th>\n",
       "      <td>ASO0GFZ0</td>\n",
       "      <td>Hm Gen Ext siRNA Lib-C9</td>\n",
       "      <td>O16</td>\n",
       "      <td>O</td>\n",
       "      <td>16</td>\n",
       "      <td>IWS1</td>\n",
       "      <td>55677.0</td>\n",
       "      <td>s31232</td>\n",
       "      <td>J10</td>\n",
       "      <td>6</td>\n",
       "      <td></td>\n",
       "      <td>CPE200BA</td>\n",
       "    </tr>\n",
       "    <tr>\n",
       "      <th>3284</th>\n",
       "      <td>ASO0GFZC</td>\n",
       "      <td>Hm Gen Ext siRNA Lib-C9</td>\n",
       "      <td>B8</td>\n",
       "      <td>B</td>\n",
       "      <td>8</td>\n",
       "      <td>LUC7L</td>\n",
       "      <td>55692.0</td>\n",
       "      <td>s31265</td>\n",
       "      <td>J11</td>\n",
       "      <td>6</td>\n",
       "      <td></td>\n",
       "      <td>CPE200BA</td>\n",
       "    </tr>\n",
       "  </tbody>\n",
       "</table>\n",
       "<p>3285 rows × 12 columns</p>\n",
       "</div>"
      ],
      "text/plain": [
       "     Sample ID               Plate Name Location (Row-Col) Row Col  \\\n",
       "0     ASO0FPUI  Hm Gen Ext siRNA Lib-A1                G10   G  10   \n",
       "1     ASO0FPV0  Hm Gen Ext siRNA Lib-A1                 K2   K   2   \n",
       "2     ASO0FPV2  Hm Gen Ext siRNA Lib-A1                 K6   K   6   \n",
       "3     ASO0FQ24  Hm Gen Ext siRNA Lib-A1                 L4   L   4   \n",
       "4     ASO0FQ25  Hm Gen Ext siRNA Lib-A1                 L6   L   6   \n",
       "...        ...                      ...                ...  ..  ..   \n",
       "3280  ASO0GFU0  Hm Gen Ext siRNA Lib-C9                 M1   M   1   \n",
       "3281  ASO0GFYQ  Hm Gen Ext siRNA Lib-C9                M14   M  14   \n",
       "3282  ASO0GFYR  Hm Gen Ext siRNA Lib-C9                M18   M  18   \n",
       "3283  ASO0GFZ0  Hm Gen Ext siRNA Lib-C9                O16   O  16   \n",
       "3284  ASO0GFZC  Hm Gen Ext siRNA Lib-C9                 B8   B   8   \n",
       "\n",
       "     Gene Symbol  Gene ID siRNA ID Destination Well Destination Plate Barcode  \\\n",
       "0            FAU   2197.0    s5039               B3                         1   \n",
       "1           AFF2   2334.0    s5318               B4                         1   \n",
       "2           FRG1   2483.0    s5366               B5                         1   \n",
       "3         HNRNPF   3185.0    s6725               B6                         1   \n",
       "4        HNRNPH1   3187.0    s6728               B7                         1   \n",
       "...          ...      ...      ...              ...                       ...   \n",
       "3280     PRPF38B  55119.0   s30217               J7                         6   \n",
       "3281       INTS8  55656.0   s31181               J8                         6   \n",
       "3282     PRPF40A  55660.0   s31193               J9                         6   \n",
       "3283        IWS1  55677.0   s31232              J10                         6   \n",
       "3284       LUC7L  55692.0   s31265              J11                         6   \n",
       "\n",
       "     Destination Volume  Plate ID  \n",
       "0                        CPE2009C  \n",
       "1                        CPE2009C  \n",
       "2                        CPE2009C  \n",
       "3                        CPE2009C  \n",
       "4                        CPE2009C  \n",
       "...                 ...       ...  \n",
       "3280                     CPE200BA  \n",
       "3281                     CPE200BA  \n",
       "3282                     CPE200BA  \n",
       "3283                     CPE200BA  \n",
       "3284                     CPE200BA  \n",
       "\n",
       "[3285 rows x 12 columns]"
      ]
     },
     "execution_count": 45,
     "metadata": {},
     "output_type": "execute_result"
    }
   ],
   "source": [
    "for plate in range(variable3):\n",
    "    for well in wells:\n",
    "        if source.shape[0] !=0:\n",
    "            target = target.append(pd.concat([source.iloc[0, 1:7], pd.Series({'Gene Symbol':source.iloc[0,8]}), source.iloc[0,10:12], pd.Series({'Destination Well':well, 'Destination Plate Barcode':plate+1, 'Destination Volume':''})]), ignore_index=True)\n",
    "            source = source.iloc[1:]\n",
    "\n",
    "target.to_csv(r'Echo_instructions_from_gene_list.csv')\n",
    "target"
   ]
  }
 ],
 "metadata": {
  "kernelspec": {
   "display_name": "Python 3 (ipykernel)",
   "language": "python",
   "name": "python3"
  },
  "language_info": {
   "codemirror_mode": {
    "name": "ipython",
    "version": 3
   },
   "file_extension": ".py",
   "mimetype": "text/x-python",
   "name": "python",
   "nbconvert_exporter": "python",
   "pygments_lexer": "ipython3",
   "version": "3.8.11"
  }
 },
 "nbformat": 4,
 "nbformat_minor": 5
}
